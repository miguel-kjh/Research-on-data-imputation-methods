{
 "metadata": {
  "language_info": {
   "codemirror_mode": {
    "name": "ipython",
    "version": 3
   },
   "file_extension": ".py",
   "mimetype": "text/x-python",
   "name": "python",
   "nbconvert_exporter": "python",
   "pygments_lexer": "ipython3",
   "version": "3.8.5-final"
  },
  "orig_nbformat": 2,
  "kernelspec": {
   "name": "python36964bit11186044547b44caa214420458ac368d",
   "display_name": "Python 3.6.9 64-bit"
  }
 },
 "nbformat": 4,
 "nbformat_minor": 2,
 "cells": [
  {
   "cell_type": "code",
   "execution_count": 43,
   "metadata": {},
   "outputs": [],
   "source": [
    "from __future__ import annotations\n",
    "from abc import ABC, abstractmethod\n",
    "import pandas as pd\n",
    "import numpy as np\n",
    "from sklearn import metrics,linear_model\n",
    "from sklearn.neural_network import MLPClassifier\n",
    "import matplotlib.pyplot as plt\n",
    "\n",
    "FILE = 'data'\n",
    "colum = 'alcohol'\n",
    "listErrors = {}\n"
   ]
  },
  {
   "source": [
    "# Obtención de datos"
   ],
   "cell_type": "markdown",
   "metadata": {}
  },
  {
   "cell_type": "code",
   "execution_count": 9,
   "metadata": {},
   "outputs": [
    {
     "output_type": "stream",
     "name": "stdout",
     "text": [
      "<class 'pandas.core.frame.DataFrame'>\nRangeIndex: 4898 entries, 0 to 4897\nData columns (total 12 columns):\n #   Column                Non-Null Count  Dtype  \n---  ------                --------------  -----  \n 0   fixed acidity         4400 non-null   float64\n 1   volatile acidity      4431 non-null   float64\n 2   citric acid           4411 non-null   float64\n 3   residual sugar        4434 non-null   float64\n 4   chlorides             4387 non-null   float64\n 5   free sulfur dioxide   4398 non-null   float64\n 6   total sulfur dioxide  4429 non-null   float64\n 7   density               4413 non-null   float64\n 8   pH                    4415 non-null   float64\n 9   sulphates             4372 non-null   float64\n 10  alcohol               4412 non-null   float64\n 11  quality               4898 non-null   float64\ndtypes: float64(12)\nmemory usage: 459.3 KB\n"
     ]
    }
   ],
   "source": [
    "data = pd.read_csv('%s/winequality-white-missing.csv' %FILE, sep=\";\")\n",
    "data.info()"
   ]
  },
  {
   "cell_type": "code",
   "execution_count": 10,
   "metadata": {},
   "outputs": [
    {
     "output_type": "execute_result",
     "data": {
      "text/plain": [
       "       fixed acidity  volatile acidity  citric acid  residual sugar  \\\n",
       "count    4400.000000       4431.000000  4411.000000     4434.000000   \n",
       "mean        6.849080          0.277857     0.334670        6.393223   \n",
       "std         0.835875          0.100151     0.122274        5.086485   \n",
       "min         3.800000          0.080000     0.000000        0.600000   \n",
       "25%         6.300000          0.210000     0.270000        1.700000   \n",
       "50%         6.800000          0.260000     0.320000        5.200000   \n",
       "75%         7.300000          0.320000     0.390000        9.850000   \n",
       "max        11.800000          1.100000     1.660000       65.800000   \n",
       "\n",
       "         chlorides  free sulfur dioxide  total sulfur dioxide      density  \\\n",
       "count  4387.000000          4398.000000           4429.000000  4413.000000   \n",
       "mean      0.046018            35.394839            137.756266     0.994038   \n",
       "std       0.022396            17.092922             42.078770     0.003014   \n",
       "min       0.009000             2.000000              9.000000     0.987110   \n",
       "25%       0.036000            23.000000            108.000000     0.991740   \n",
       "50%       0.043000            34.000000            134.000000     0.993800   \n",
       "75%       0.050000            46.000000            166.000000     0.996120   \n",
       "max       0.346000           289.000000            440.000000     1.038980   \n",
       "\n",
       "                pH    sulphates      alcohol      quality  \n",
       "count  4415.000000  4372.000000  4412.000000  4898.000000  \n",
       "mean      3.188061     0.489879    10.518351     5.877909  \n",
       "std       0.151680     0.114343     1.234730     0.885639  \n",
       "min       2.740000     0.220000     8.000000     3.000000  \n",
       "25%       3.080000     0.410000     9.500000     5.000000  \n",
       "50%       3.180000     0.470000    10.400000     6.000000  \n",
       "75%       3.280000     0.550000    11.400000     6.000000  \n",
       "max       3.820000     1.080000    14.200000     9.000000  "
      ],
      "text/html": "<div>\n<style scoped>\n    .dataframe tbody tr th:only-of-type {\n        vertical-align: middle;\n    }\n\n    .dataframe tbody tr th {\n        vertical-align: top;\n    }\n\n    .dataframe thead th {\n        text-align: right;\n    }\n</style>\n<table border=\"1\" class=\"dataframe\">\n  <thead>\n    <tr style=\"text-align: right;\">\n      <th></th>\n      <th>fixed acidity</th>\n      <th>volatile acidity</th>\n      <th>citric acid</th>\n      <th>residual sugar</th>\n      <th>chlorides</th>\n      <th>free sulfur dioxide</th>\n      <th>total sulfur dioxide</th>\n      <th>density</th>\n      <th>pH</th>\n      <th>sulphates</th>\n      <th>alcohol</th>\n      <th>quality</th>\n    </tr>\n  </thead>\n  <tbody>\n    <tr>\n      <th>count</th>\n      <td>4400.000000</td>\n      <td>4431.000000</td>\n      <td>4411.000000</td>\n      <td>4434.000000</td>\n      <td>4387.000000</td>\n      <td>4398.000000</td>\n      <td>4429.000000</td>\n      <td>4413.000000</td>\n      <td>4415.000000</td>\n      <td>4372.000000</td>\n      <td>4412.000000</td>\n      <td>4898.000000</td>\n    </tr>\n    <tr>\n      <th>mean</th>\n      <td>6.849080</td>\n      <td>0.277857</td>\n      <td>0.334670</td>\n      <td>6.393223</td>\n      <td>0.046018</td>\n      <td>35.394839</td>\n      <td>137.756266</td>\n      <td>0.994038</td>\n      <td>3.188061</td>\n      <td>0.489879</td>\n      <td>10.518351</td>\n      <td>5.877909</td>\n    </tr>\n    <tr>\n      <th>std</th>\n      <td>0.835875</td>\n      <td>0.100151</td>\n      <td>0.122274</td>\n      <td>5.086485</td>\n      <td>0.022396</td>\n      <td>17.092922</td>\n      <td>42.078770</td>\n      <td>0.003014</td>\n      <td>0.151680</td>\n      <td>0.114343</td>\n      <td>1.234730</td>\n      <td>0.885639</td>\n    </tr>\n    <tr>\n      <th>min</th>\n      <td>3.800000</td>\n      <td>0.080000</td>\n      <td>0.000000</td>\n      <td>0.600000</td>\n      <td>0.009000</td>\n      <td>2.000000</td>\n      <td>9.000000</td>\n      <td>0.987110</td>\n      <td>2.740000</td>\n      <td>0.220000</td>\n      <td>8.000000</td>\n      <td>3.000000</td>\n    </tr>\n    <tr>\n      <th>25%</th>\n      <td>6.300000</td>\n      <td>0.210000</td>\n      <td>0.270000</td>\n      <td>1.700000</td>\n      <td>0.036000</td>\n      <td>23.000000</td>\n      <td>108.000000</td>\n      <td>0.991740</td>\n      <td>3.080000</td>\n      <td>0.410000</td>\n      <td>9.500000</td>\n      <td>5.000000</td>\n    </tr>\n    <tr>\n      <th>50%</th>\n      <td>6.800000</td>\n      <td>0.260000</td>\n      <td>0.320000</td>\n      <td>5.200000</td>\n      <td>0.043000</td>\n      <td>34.000000</td>\n      <td>134.000000</td>\n      <td>0.993800</td>\n      <td>3.180000</td>\n      <td>0.470000</td>\n      <td>10.400000</td>\n      <td>6.000000</td>\n    </tr>\n    <tr>\n      <th>75%</th>\n      <td>7.300000</td>\n      <td>0.320000</td>\n      <td>0.390000</td>\n      <td>9.850000</td>\n      <td>0.050000</td>\n      <td>46.000000</td>\n      <td>166.000000</td>\n      <td>0.996120</td>\n      <td>3.280000</td>\n      <td>0.550000</td>\n      <td>11.400000</td>\n      <td>6.000000</td>\n    </tr>\n    <tr>\n      <th>max</th>\n      <td>11.800000</td>\n      <td>1.100000</td>\n      <td>1.660000</td>\n      <td>65.800000</td>\n      <td>0.346000</td>\n      <td>289.000000</td>\n      <td>440.000000</td>\n      <td>1.038980</td>\n      <td>3.820000</td>\n      <td>1.080000</td>\n      <td>14.200000</td>\n      <td>9.000000</td>\n    </tr>\n  </tbody>\n</table>\n</div>"
     },
     "metadata": {},
     "execution_count": 10
    }
   ],
   "source": [
    "data.describe()"
   ]
  },
  {
   "cell_type": "code",
   "execution_count": 11,
   "metadata": {},
   "outputs": [
    {
     "output_type": "stream",
     "name": "stdout",
     "text": [
      "<class 'pandas.core.frame.DataFrame'>\nRangeIndex: 4898 entries, 0 to 4897\nData columns (total 12 columns):\n #   Column                Non-Null Count  Dtype  \n---  ------                --------------  -----  \n 0   fixed acidity         4898 non-null   float64\n 1   volatile acidity      4898 non-null   float64\n 2   citric acid           4898 non-null   float64\n 3   residual sugar        4898 non-null   float64\n 4   chlorides             4898 non-null   float64\n 5   free sulfur dioxide   4898 non-null   float64\n 6   total sulfur dioxide  4898 non-null   float64\n 7   density               4898 non-null   float64\n 8   pH                    4898 non-null   float64\n 9   sulphates             4898 non-null   float64\n 10  alcohol               4898 non-null   float64\n 11  quality               4898 non-null   int64  \ndtypes: float64(11), int64(1)\nmemory usage: 459.3 KB\n"
     ]
    }
   ],
   "source": [
    "originalData = pd.read_csv('%s/winequality-white.csv' %FILE, sep=\";\")\n",
    "originalData.info()"
   ]
  },
  {
   "cell_type": "code",
   "execution_count": 12,
   "metadata": {},
   "outputs": [
    {
     "output_type": "execute_result",
     "data": {
      "text/plain": [
       "       fixed acidity  volatile acidity  citric acid  residual sugar  \\\n",
       "count    4898.000000       4898.000000  4898.000000     4898.000000   \n",
       "mean        6.854788          0.278241     0.334192        6.391415   \n",
       "std         0.843868          0.100795     0.121020        5.072058   \n",
       "min         3.800000          0.080000     0.000000        0.600000   \n",
       "25%         6.300000          0.210000     0.270000        1.700000   \n",
       "50%         6.800000          0.260000     0.320000        5.200000   \n",
       "75%         7.300000          0.320000     0.390000        9.900000   \n",
       "max        14.200000          1.100000     1.660000       65.800000   \n",
       "\n",
       "         chlorides  free sulfur dioxide  total sulfur dioxide      density  \\\n",
       "count  4898.000000          4898.000000           4898.000000  4898.000000   \n",
       "mean      0.045772            35.308085            138.360657     0.994027   \n",
       "std       0.021848            17.007137             42.498065     0.002991   \n",
       "min       0.009000             2.000000              9.000000     0.987110   \n",
       "25%       0.036000            23.000000            108.000000     0.991723   \n",
       "50%       0.043000            34.000000            134.000000     0.993740   \n",
       "75%       0.050000            46.000000            167.000000     0.996100   \n",
       "max       0.346000           289.000000            440.000000     1.038980   \n",
       "\n",
       "                pH    sulphates      alcohol      quality  \n",
       "count  4898.000000  4898.000000  4898.000000  4898.000000  \n",
       "mean      3.188267     0.489847    10.514267     5.877909  \n",
       "std       0.151001     0.114126     1.230621     0.885639  \n",
       "min       2.720000     0.220000     8.000000     3.000000  \n",
       "25%       3.090000     0.410000     9.500000     5.000000  \n",
       "50%       3.180000     0.470000    10.400000     6.000000  \n",
       "75%       3.280000     0.550000    11.400000     6.000000  \n",
       "max       3.820000     1.080000    14.200000     9.000000  "
      ],
      "text/html": "<div>\n<style scoped>\n    .dataframe tbody tr th:only-of-type {\n        vertical-align: middle;\n    }\n\n    .dataframe tbody tr th {\n        vertical-align: top;\n    }\n\n    .dataframe thead th {\n        text-align: right;\n    }\n</style>\n<table border=\"1\" class=\"dataframe\">\n  <thead>\n    <tr style=\"text-align: right;\">\n      <th></th>\n      <th>fixed acidity</th>\n      <th>volatile acidity</th>\n      <th>citric acid</th>\n      <th>residual sugar</th>\n      <th>chlorides</th>\n      <th>free sulfur dioxide</th>\n      <th>total sulfur dioxide</th>\n      <th>density</th>\n      <th>pH</th>\n      <th>sulphates</th>\n      <th>alcohol</th>\n      <th>quality</th>\n    </tr>\n  </thead>\n  <tbody>\n    <tr>\n      <th>count</th>\n      <td>4898.000000</td>\n      <td>4898.000000</td>\n      <td>4898.000000</td>\n      <td>4898.000000</td>\n      <td>4898.000000</td>\n      <td>4898.000000</td>\n      <td>4898.000000</td>\n      <td>4898.000000</td>\n      <td>4898.000000</td>\n      <td>4898.000000</td>\n      <td>4898.000000</td>\n      <td>4898.000000</td>\n    </tr>\n    <tr>\n      <th>mean</th>\n      <td>6.854788</td>\n      <td>0.278241</td>\n      <td>0.334192</td>\n      <td>6.391415</td>\n      <td>0.045772</td>\n      <td>35.308085</td>\n      <td>138.360657</td>\n      <td>0.994027</td>\n      <td>3.188267</td>\n      <td>0.489847</td>\n      <td>10.514267</td>\n      <td>5.877909</td>\n    </tr>\n    <tr>\n      <th>std</th>\n      <td>0.843868</td>\n      <td>0.100795</td>\n      <td>0.121020</td>\n      <td>5.072058</td>\n      <td>0.021848</td>\n      <td>17.007137</td>\n      <td>42.498065</td>\n      <td>0.002991</td>\n      <td>0.151001</td>\n      <td>0.114126</td>\n      <td>1.230621</td>\n      <td>0.885639</td>\n    </tr>\n    <tr>\n      <th>min</th>\n      <td>3.800000</td>\n      <td>0.080000</td>\n      <td>0.000000</td>\n      <td>0.600000</td>\n      <td>0.009000</td>\n      <td>2.000000</td>\n      <td>9.000000</td>\n      <td>0.987110</td>\n      <td>2.720000</td>\n      <td>0.220000</td>\n      <td>8.000000</td>\n      <td>3.000000</td>\n    </tr>\n    <tr>\n      <th>25%</th>\n      <td>6.300000</td>\n      <td>0.210000</td>\n      <td>0.270000</td>\n      <td>1.700000</td>\n      <td>0.036000</td>\n      <td>23.000000</td>\n      <td>108.000000</td>\n      <td>0.991723</td>\n      <td>3.090000</td>\n      <td>0.410000</td>\n      <td>9.500000</td>\n      <td>5.000000</td>\n    </tr>\n    <tr>\n      <th>50%</th>\n      <td>6.800000</td>\n      <td>0.260000</td>\n      <td>0.320000</td>\n      <td>5.200000</td>\n      <td>0.043000</td>\n      <td>34.000000</td>\n      <td>134.000000</td>\n      <td>0.993740</td>\n      <td>3.180000</td>\n      <td>0.470000</td>\n      <td>10.400000</td>\n      <td>6.000000</td>\n    </tr>\n    <tr>\n      <th>75%</th>\n      <td>7.300000</td>\n      <td>0.320000</td>\n      <td>0.390000</td>\n      <td>9.900000</td>\n      <td>0.050000</td>\n      <td>46.000000</td>\n      <td>167.000000</td>\n      <td>0.996100</td>\n      <td>3.280000</td>\n      <td>0.550000</td>\n      <td>11.400000</td>\n      <td>6.000000</td>\n    </tr>\n    <tr>\n      <th>max</th>\n      <td>14.200000</td>\n      <td>1.100000</td>\n      <td>1.660000</td>\n      <td>65.800000</td>\n      <td>0.346000</td>\n      <td>289.000000</td>\n      <td>440.000000</td>\n      <td>1.038980</td>\n      <td>3.820000</td>\n      <td>1.080000</td>\n      <td>14.200000</td>\n      <td>9.000000</td>\n    </tr>\n  </tbody>\n</table>\n</div>"
     },
     "metadata": {},
     "execution_count": 12
    }
   ],
   "source": [
    "originalData.describe()"
   ]
  },
  {
   "cell_type": "code",
   "execution_count": 13,
   "metadata": {},
   "outputs": [
    {
     "output_type": "execute_result",
     "data": {
      "text/plain": [
       "0       False\n",
       "1       False\n",
       "2        True\n",
       "3       False\n",
       "4        True\n",
       "        ...  \n",
       "4893     True\n",
       "4894    False\n",
       "4895    False\n",
       "4896    False\n",
       "4897    False\n",
       "Name: alcohol, Length: 4898, dtype: bool"
      ]
     },
     "metadata": {},
     "execution_count": 13
    }
   ],
   "source": [
    "positionalLostValues = data[colum].isnull()\n",
    "positionalLostValues"
   ]
  },
  {
   "cell_type": "code",
   "execution_count": 14,
   "metadata": {},
   "outputs": [],
   "source": [
    "def getError(tableA, tableB, positionalLostValues):\n",
    "    return metrics.mean_squared_error(\n",
    "        tableA.loc[positionalLostValues, colum], \n",
    "        tableB.loc[positionalLostValues, colum]\n",
    "    )"
   ]
  },
  {
   "source": [
    "## Imputación por la media"
   ],
   "cell_type": "markdown",
   "metadata": {}
  },
  {
   "cell_type": "code",
   "execution_count": 15,
   "metadata": {},
   "outputs": [],
   "source": [
    "def calculateMean(table: pd.DataFrame, positionalLostValues: pd.Series) -> float:\n",
    "    return table.loc[~positionalLostValues, colum].mean()\n"
   ]
  },
  {
   "cell_type": "code",
   "execution_count": 16,
   "metadata": {},
   "outputs": [],
   "source": [
    "meanImputationData = data.copy()"
   ]
  },
  {
   "cell_type": "code",
   "execution_count": 17,
   "metadata": {},
   "outputs": [
    {
     "output_type": "execute_result",
     "data": {
      "text/plain": [
       "10.518350710184345"
      ]
     },
     "metadata": {},
     "execution_count": 17
    }
   ],
   "source": [
    "mean = calculateMean(meanImputationData, positionalLostValues)\n",
    "mean"
   ]
  },
  {
   "cell_type": "code",
   "execution_count": 18,
   "metadata": {},
   "outputs": [
    {
     "output_type": "stream",
     "name": "stdout",
     "text": [
      "<class 'pandas.core.frame.DataFrame'>\nRangeIndex: 4898 entries, 0 to 4897\nData columns (total 12 columns):\n #   Column                Non-Null Count  Dtype  \n---  ------                --------------  -----  \n 0   fixed acidity         4400 non-null   float64\n 1   volatile acidity      4431 non-null   float64\n 2   citric acid           4411 non-null   float64\n 3   residual sugar        4434 non-null   float64\n 4   chlorides             4387 non-null   float64\n 5   free sulfur dioxide   4398 non-null   float64\n 6   total sulfur dioxide  4429 non-null   float64\n 7   density               4413 non-null   float64\n 8   pH                    4415 non-null   float64\n 9   sulphates             4372 non-null   float64\n 10  alcohol               4898 non-null   float64\n 11  quality               4898 non-null   float64\ndtypes: float64(12)\nmemory usage: 459.3 KB\n"
     ]
    }
   ],
   "source": [
    "meanImputationData.loc[positionalLostValues, colum] = mean\n",
    "meanImputationData.info()"
   ]
  },
  {
   "cell_type": "code",
   "execution_count": 19,
   "metadata": {},
   "outputs": [
    {
     "output_type": "stream",
     "name": "stdout",
     "text": [
      "{'Mean Imputation': 1.4226523559446482}\n"
     ]
    }
   ],
   "source": [
    "listErrors[\"Mean Imputation\"] = getError(\n",
    "    meanImputationData,\n",
    "    originalData,\n",
    "    positionalLostValues\n",
    ")\n",
    "print(listErrors)"
   ]
  },
  {
   "source": [
    "## Imputación por la mediana"
   ],
   "cell_type": "markdown",
   "metadata": {}
  },
  {
   "cell_type": "code",
   "execution_count": 20,
   "metadata": {},
   "outputs": [],
   "source": [
    "def calculateMedian(table: pd.DataFrame, positionalLostValues: pd.Series) -> float:\n",
    "    return table.loc[~positionalLostValues, colum].median()"
   ]
  },
  {
   "cell_type": "code",
   "execution_count": 21,
   "metadata": {},
   "outputs": [],
   "source": [
    "medianImputationData = data.copy()\n",
    "median = calculateMedian(medianImputationData, positionalLostValues)"
   ]
  },
  {
   "cell_type": "code",
   "execution_count": 22,
   "metadata": {},
   "outputs": [
    {
     "output_type": "stream",
     "name": "stdout",
     "text": [
      "{'Mean Imputation': 1.4226523559446482, 'Median Imputation': 1.4269175811614079}\n"
     ]
    }
   ],
   "source": [
    "meanImputationData.loc[positionalLostValues, colum] = median\n",
    "listErrors[\"Median Imputation\"] = getError(\n",
    "    meanImputationData,\n",
    "    originalData,\n",
    "    positionalLostValues\n",
    ")\n",
    "print(listErrors)\n",
    "\n"
   ]
  },
  {
   "source": [
    "## Imputación mediante Regresión lineal"
   ],
   "cell_type": "markdown",
   "metadata": {}
  },
  {
   "cell_type": "code",
   "execution_count": 23,
   "metadata": {},
   "outputs": [
    {
     "output_type": "stream",
     "name": "stdout",
     "text": [
      "<class 'pandas.core.frame.DataFrame'>\nRangeIndex: 4898 entries, 0 to 4897\nData columns (total 12 columns):\n #   Column                Non-Null Count  Dtype  \n---  ------                --------------  -----  \n 0   fixed acidity         4898 non-null   float64\n 1   volatile acidity      4898 non-null   float64\n 2   citric acid           4898 non-null   float64\n 3   residual sugar        4898 non-null   float64\n 4   chlorides             4898 non-null   float64\n 5   free sulfur dioxide   4898 non-null   float64\n 6   total sulfur dioxide  4898 non-null   float64\n 7   density               4898 non-null   float64\n 8   pH                    4898 non-null   float64\n 9   sulphates             4898 non-null   float64\n 10  alcohol               4412 non-null   float64\n 11  quality               4898 non-null   int64  \ndtypes: float64(11), int64(1)\nmemory usage: 459.3 KB\n"
     ]
    }
   ],
   "source": [
    "LinearImputationData = originalData.copy()\n",
    "LinearImputationData['alcohol'] = data['alcohol'].copy()\n",
    "LinearImputationData.info()"
   ]
  },
  {
   "cell_type": "code",
   "execution_count": 24,
   "metadata": {},
   "outputs": [
    {
     "output_type": "stream",
     "name": "stdout",
     "text": [
      "(486, 12)\n(4412, 12)\n"
     ]
    }
   ],
   "source": [
    "pos_losses = LinearImputationData['alcohol'].isnull()\n",
    "mat_losses = LinearImputationData[pos_losses].values\n",
    "mat_not_losses = LinearImputationData[~pos_losses].values\n",
    "print(mat_losses.shape)\n",
    "print(mat_not_losses.shape)"
   ]
  },
  {
   "cell_type": "code",
   "execution_count": 25,
   "metadata": {},
   "outputs": [
    {
     "output_type": "stream",
     "name": "stdout",
     "text": [
      "(4412, 10) (4412,)\n"
     ]
    }
   ],
   "source": [
    "x_losses = mat_losses[:,:-2]\n",
    "x = mat_not_losses[:, :-2]\n",
    "y_hat = mat_not_losses[:,-2]\n",
    "print(x.shape,\n",
    "      y_hat.shape)"
   ]
  },
  {
   "cell_type": "code",
   "execution_count": 26,
   "metadata": {},
   "outputs": [
    {
     "output_type": "execute_result",
     "data": {
      "text/plain": [
       "LinearRegression()"
      ]
     },
     "metadata": {},
     "execution_count": 26
    }
   ],
   "source": [
    "model = linear_model.LinearRegression()\n",
    "model.fit(x,y_hat)"
   ]
  },
  {
   "cell_type": "code",
   "execution_count": 27,
   "metadata": {},
   "outputs": [
    {
     "output_type": "stream",
     "name": "stdout",
     "text": [
      "<class 'pandas.core.frame.DataFrame'>\nRangeIndex: 4898 entries, 0 to 4897\nData columns (total 12 columns):\n #   Column                Non-Null Count  Dtype  \n---  ------                --------------  -----  \n 0   fixed acidity         4898 non-null   float64\n 1   volatile acidity      4898 non-null   float64\n 2   citric acid           4898 non-null   float64\n 3   residual sugar        4898 non-null   float64\n 4   chlorides             4898 non-null   float64\n 5   free sulfur dioxide   4898 non-null   float64\n 6   total sulfur dioxide  4898 non-null   float64\n 7   density               4898 non-null   float64\n 8   pH                    4898 non-null   float64\n 9   sulphates             4898 non-null   float64\n 10  alcohol               4898 non-null   float64\n 11  quality               4898 non-null   int64  \ndtypes: float64(11), int64(1)\nmemory usage: 459.3 KB\n"
     ]
    }
   ],
   "source": [
    "alcohol_pred = model.predict(x_losses)\n",
    "LinearImputationData.loc[pos_losses, 'alcohol'] = alcohol_pred\n",
    "LinearImputationData.info()"
   ]
  },
  {
   "cell_type": "code",
   "execution_count": 28,
   "metadata": {},
   "outputs": [
    {
     "output_type": "stream",
     "name": "stdout",
     "text": [
      "{'Mean Imputation': 1.4226523559446482, 'Median Imputation': 1.4269175811614079, 'Linear Imputation': 0.16487362102096195}\n"
     ]
    }
   ],
   "source": [
    "listErrors[\"Linear Imputation\"] = getError(\n",
    "    LinearImputationData,\n",
    "    originalData,\n",
    "    positionalLostValues\n",
    ")\n",
    "print(listErrors)"
   ]
  },
  {
   "source": [
    "## Imputación mediante HOT-DECK"
   ],
   "cell_type": "markdown",
   "metadata": {}
  },
  {
   "cell_type": "code",
   "execution_count": 29,
   "metadata": {},
   "outputs": [],
   "source": [
    "def hotDeck(dfLostValues, dfValues):\n",
    "    listA = [\n",
    "        [np.linalg.norm(vecLost-vecValues) for vecValues in dfValues]\n",
    "        for vecLost in dfLostValues\n",
    "    ]\n",
    "    result = [ np.where(a == np.amin(a))[0][0] for a in listA]\n",
    "    return result\n"
   ]
  },
  {
   "cell_type": "code",
   "execution_count": 30,
   "metadata": {
    "tags": []
   },
   "outputs": [
    {
     "output_type": "stream",
     "name": "stdout",
     "text": [
      "<class 'pandas.core.frame.DataFrame'>\nRangeIndex: 4898 entries, 0 to 4897\nData columns (total 12 columns):\n #   Column                Non-Null Count  Dtype  \n---  ------                --------------  -----  \n 0   fixed acidity         4898 non-null   float64\n 1   volatile acidity      4898 non-null   float64\n 2   citric acid           4898 non-null   float64\n 3   residual sugar        4898 non-null   float64\n 4   chlorides             4898 non-null   float64\n 5   free sulfur dioxide   4898 non-null   float64\n 6   total sulfur dioxide  4898 non-null   float64\n 7   density               4898 non-null   float64\n 8   pH                    4898 non-null   float64\n 9   sulphates             4898 non-null   float64\n 10  alcohol               4898 non-null   float64\n 11  quality               4898 non-null   int64  \ndtypes: float64(11), int64(1)\nmemory usage: 459.3 KB\n"
     ]
    }
   ],
   "source": [
    "hotDockImputationData = originalData.copy()\n",
    "hotDockImputationData['alcohol'] = data['alcohol'].copy()\n",
    "pos_losses = hotDockImputationData['alcohol'].isnull()\n",
    "mat_losses = hotDockImputationData[pos_losses].values\n",
    "mat_not_losses = hotDockImputationData[~pos_losses].values\n",
    "x_losses = mat_losses[:,:-2]\n",
    "x = mat_not_losses[:, :-2]\n",
    "hotDockImputationData.loc[pos_losses, 'alcohol'] = originalData[colum][hotDeck(x_losses, x)].values\n",
    "hotDockImputationData.info()"
   ]
  },
  {
   "cell_type": "code",
   "execution_count": 31,
   "metadata": {},
   "outputs": [
    {
     "output_type": "stream",
     "name": "stdout",
     "text": [
      "{'Mean Imputation': 1.4226523559446482, 'Median Imputation': 1.4269175811614079, 'Linear Imputation': 0.16487362102096195, 'HotDeck Imputation': 2.6720684727937822}\n"
     ]
    }
   ],
   "source": [
    "listErrors[\"HotDeck Imputation\"] = getError(\n",
    "    hotDockImputationData,\n",
    "    originalData,\n",
    "    positionalLostValues\n",
    ")\n",
    "print(listErrors)"
   ]
  },
  {
   "source": [
    "# Resultados"
   ],
   "cell_type": "markdown",
   "metadata": {}
  },
  {
   "cell_type": "code",
   "execution_count": 34,
   "metadata": {},
   "outputs": [
    {
     "output_type": "display_data",
     "data": {
      "text/plain": "<Figure size 1440x216 with 1 Axes>",
      "image/svg+xml": "<?xml version=\"1.0\" encoding=\"utf-8\" standalone=\"no\"?>\n<!DOCTYPE svg PUBLIC \"-//W3C//DTD SVG 1.1//EN\"\n  \"http://www.w3.org/Graphics/SVG/1.1/DTD/svg11.dtd\">\n<!-- Created with matplotlib (https://matplotlib.org/) -->\n<svg height=\"194.158125pt\" version=\"1.1\" viewBox=\"0 0 1153.303125 194.158125\" width=\"1153.303125pt\" xmlns=\"http://www.w3.org/2000/svg\" xmlns:xlink=\"http://www.w3.org/1999/xlink\">\n <metadata>\n  <rdf:RDF xmlns:cc=\"http://creativecommons.org/ns#\" xmlns:dc=\"http://purl.org/dc/elements/1.1/\" xmlns:rdf=\"http://www.w3.org/1999/02/22-rdf-syntax-ns#\">\n   <cc:Work>\n    <dc:type rdf:resource=\"http://purl.org/dc/dcmitype/StillImage\"/>\n    <dc:date>2020-10-10T19:01:15.163841</dc:date>\n    <dc:format>image/svg+xml</dc:format>\n    <dc:creator>\n     <cc:Agent>\n      <dc:title>Matplotlib v3.3.2, https://matplotlib.org/</dc:title>\n     </cc:Agent>\n    </dc:creator>\n   </cc:Work>\n  </rdf:RDF>\n </metadata>\n <defs>\n  <style type=\"text/css\">*{stroke-linecap:butt;stroke-linejoin:round;}</style>\n </defs>\n <g id=\"figure_1\">\n  <g id=\"patch_1\">\n   <path d=\"M 0 194.158125 \nL 1153.303125 194.158125 \nL 1153.303125 0 \nL 0 0 \nz\n\" style=\"fill:none;\"/>\n  </g>\n  <g id=\"axes_1\">\n   <g id=\"patch_2\">\n    <path d=\"M 30.103125 170.28 \nL 1146.103125 170.28 \nL 1146.103125 7.2 \nL 30.103125 7.2 \nz\n\" style=\"fill:#ffffff;\"/>\n   </g>\n   <g id=\"patch_3\">\n    <path clip-path=\"url(#p7f302b52ce)\" d=\"M 80.830398 170.28 \nL 294.418914 170.28 \nL 294.418914 87.588169 \nL 80.830398 87.588169 \nz\n\" style=\"fill:#1f77b4;\"/>\n   </g>\n   <g id=\"patch_4\">\n    <path clip-path=\"url(#p7f302b52ce)\" d=\"M 347.816044 170.28 \nL 561.40456 170.28 \nL 561.40456 87.340252 \nL 347.816044 87.340252 \nz\n\" style=\"fill:#1f77b4;\"/>\n   </g>\n   <g id=\"patch_5\">\n    <path clip-path=\"url(#p7f302b52ce)\" d=\"M 614.80169 170.28 \nL 828.390206 170.28 \nL 828.390206 160.696702 \nL 614.80169 160.696702 \nz\n\" style=\"fill:#1f77b4;\"/>\n   </g>\n   <g id=\"patch_6\">\n    <path clip-path=\"url(#p7f302b52ce)\" d=\"M 881.787336 170.28 \nL 1095.375852 170.28 \nL 1095.375852 14.965714 \nL 881.787336 14.965714 \nz\n\" style=\"fill:#1f77b4;\"/>\n   </g>\n   <g id=\"matplotlib.axis_1\">\n    <g id=\"xtick_1\">\n     <g id=\"line2d_1\">\n      <defs>\n       <path d=\"M 0 0 \nL 0 3.5 \n\" id=\"m2df4538945\" style=\"stroke:#000000;stroke-width:0.8;\"/>\n      </defs>\n      <g>\n       <use style=\"stroke:#000000;stroke-width:0.8;\" x=\"187.624656\" xlink:href=\"#m2df4538945\" y=\"170.28\"/>\n      </g>\n     </g>\n     <g id=\"text_1\">\n      <!-- Mean Imputation -->\n      <g transform=\"translate(145.122312 184.878438)scale(0.1 -0.1)\">\n       <defs>\n        <path d=\"M 9.8125 72.90625 \nL 24.515625 72.90625 \nL 43.109375 23.296875 \nL 61.8125 72.90625 \nL 76.515625 72.90625 \nL 76.515625 0 \nL 66.890625 0 \nL 66.890625 64.015625 \nL 48.09375 14.015625 \nL 38.1875 14.015625 \nL 19.390625 64.015625 \nL 19.390625 0 \nL 9.8125 0 \nz\n\" id=\"DejaVuSans-77\"/>\n        <path d=\"M 56.203125 29.59375 \nL 56.203125 25.203125 \nL 14.890625 25.203125 \nQ 15.484375 15.921875 20.484375 11.0625 \nQ 25.484375 6.203125 34.421875 6.203125 \nQ 39.59375 6.203125 44.453125 7.46875 \nQ 49.3125 8.734375 54.109375 11.28125 \nL 54.109375 2.78125 \nQ 49.265625 0.734375 44.1875 -0.34375 \nQ 39.109375 -1.421875 33.890625 -1.421875 \nQ 20.796875 -1.421875 13.15625 6.1875 \nQ 5.515625 13.8125 5.515625 26.8125 \nQ 5.515625 40.234375 12.765625 48.109375 \nQ 20.015625 56 32.328125 56 \nQ 43.359375 56 49.78125 48.890625 \nQ 56.203125 41.796875 56.203125 29.59375 \nz\nM 47.21875 32.234375 \nQ 47.125 39.59375 43.09375 43.984375 \nQ 39.0625 48.390625 32.421875 48.390625 \nQ 24.90625 48.390625 20.390625 44.140625 \nQ 15.875 39.890625 15.1875 32.171875 \nz\n\" id=\"DejaVuSans-101\"/>\n        <path d=\"M 34.28125 27.484375 \nQ 23.390625 27.484375 19.1875 25 \nQ 14.984375 22.515625 14.984375 16.5 \nQ 14.984375 11.71875 18.140625 8.90625 \nQ 21.296875 6.109375 26.703125 6.109375 \nQ 34.1875 6.109375 38.703125 11.40625 \nQ 43.21875 16.703125 43.21875 25.484375 \nL 43.21875 27.484375 \nz\nM 52.203125 31.203125 \nL 52.203125 0 \nL 43.21875 0 \nL 43.21875 8.296875 \nQ 40.140625 3.328125 35.546875 0.953125 \nQ 30.953125 -1.421875 24.3125 -1.421875 \nQ 15.921875 -1.421875 10.953125 3.296875 \nQ 6 8.015625 6 15.921875 \nQ 6 25.140625 12.171875 29.828125 \nQ 18.359375 34.515625 30.609375 34.515625 \nL 43.21875 34.515625 \nL 43.21875 35.40625 \nQ 43.21875 41.609375 39.140625 45 \nQ 35.0625 48.390625 27.6875 48.390625 \nQ 23 48.390625 18.546875 47.265625 \nQ 14.109375 46.140625 10.015625 43.890625 \nL 10.015625 52.203125 \nQ 14.9375 54.109375 19.578125 55.046875 \nQ 24.21875 56 28.609375 56 \nQ 40.484375 56 46.34375 49.84375 \nQ 52.203125 43.703125 52.203125 31.203125 \nz\n\" id=\"DejaVuSans-97\"/>\n        <path d=\"M 54.890625 33.015625 \nL 54.890625 0 \nL 45.90625 0 \nL 45.90625 32.71875 \nQ 45.90625 40.484375 42.875 44.328125 \nQ 39.84375 48.1875 33.796875 48.1875 \nQ 26.515625 48.1875 22.3125 43.546875 \nQ 18.109375 38.921875 18.109375 30.90625 \nL 18.109375 0 \nL 9.078125 0 \nL 9.078125 54.6875 \nL 18.109375 54.6875 \nL 18.109375 46.1875 \nQ 21.34375 51.125 25.703125 53.5625 \nQ 30.078125 56 35.796875 56 \nQ 45.21875 56 50.046875 50.171875 \nQ 54.890625 44.34375 54.890625 33.015625 \nz\n\" id=\"DejaVuSans-110\"/>\n        <path id=\"DejaVuSans-32\"/>\n        <path d=\"M 9.8125 72.90625 \nL 19.671875 72.90625 \nL 19.671875 0 \nL 9.8125 0 \nz\n\" id=\"DejaVuSans-73\"/>\n        <path d=\"M 52 44.1875 \nQ 55.375 50.25 60.0625 53.125 \nQ 64.75 56 71.09375 56 \nQ 79.640625 56 84.28125 50.015625 \nQ 88.921875 44.046875 88.921875 33.015625 \nL 88.921875 0 \nL 79.890625 0 \nL 79.890625 32.71875 \nQ 79.890625 40.578125 77.09375 44.375 \nQ 74.3125 48.1875 68.609375 48.1875 \nQ 61.625 48.1875 57.5625 43.546875 \nQ 53.515625 38.921875 53.515625 30.90625 \nL 53.515625 0 \nL 44.484375 0 \nL 44.484375 32.71875 \nQ 44.484375 40.625 41.703125 44.40625 \nQ 38.921875 48.1875 33.109375 48.1875 \nQ 26.21875 48.1875 22.15625 43.53125 \nQ 18.109375 38.875 18.109375 30.90625 \nL 18.109375 0 \nL 9.078125 0 \nL 9.078125 54.6875 \nL 18.109375 54.6875 \nL 18.109375 46.1875 \nQ 21.1875 51.21875 25.484375 53.609375 \nQ 29.78125 56 35.6875 56 \nQ 41.65625 56 45.828125 52.96875 \nQ 50 49.953125 52 44.1875 \nz\n\" id=\"DejaVuSans-109\"/>\n        <path d=\"M 18.109375 8.203125 \nL 18.109375 -20.796875 \nL 9.078125 -20.796875 \nL 9.078125 54.6875 \nL 18.109375 54.6875 \nL 18.109375 46.390625 \nQ 20.953125 51.265625 25.265625 53.625 \nQ 29.59375 56 35.59375 56 \nQ 45.5625 56 51.78125 48.09375 \nQ 58.015625 40.1875 58.015625 27.296875 \nQ 58.015625 14.40625 51.78125 6.484375 \nQ 45.5625 -1.421875 35.59375 -1.421875 \nQ 29.59375 -1.421875 25.265625 0.953125 \nQ 20.953125 3.328125 18.109375 8.203125 \nz\nM 48.6875 27.296875 \nQ 48.6875 37.203125 44.609375 42.84375 \nQ 40.53125 48.484375 33.40625 48.484375 \nQ 26.265625 48.484375 22.1875 42.84375 \nQ 18.109375 37.203125 18.109375 27.296875 \nQ 18.109375 17.390625 22.1875 11.75 \nQ 26.265625 6.109375 33.40625 6.109375 \nQ 40.53125 6.109375 44.609375 11.75 \nQ 48.6875 17.390625 48.6875 27.296875 \nz\n\" id=\"DejaVuSans-112\"/>\n        <path d=\"M 8.5 21.578125 \nL 8.5 54.6875 \nL 17.484375 54.6875 \nL 17.484375 21.921875 \nQ 17.484375 14.15625 20.5 10.265625 \nQ 23.53125 6.390625 29.59375 6.390625 \nQ 36.859375 6.390625 41.078125 11.03125 \nQ 45.3125 15.671875 45.3125 23.6875 \nL 45.3125 54.6875 \nL 54.296875 54.6875 \nL 54.296875 0 \nL 45.3125 0 \nL 45.3125 8.40625 \nQ 42.046875 3.421875 37.71875 1 \nQ 33.40625 -1.421875 27.6875 -1.421875 \nQ 18.265625 -1.421875 13.375 4.4375 \nQ 8.5 10.296875 8.5 21.578125 \nz\nM 31.109375 56 \nz\n\" id=\"DejaVuSans-117\"/>\n        <path d=\"M 18.3125 70.21875 \nL 18.3125 54.6875 \nL 36.8125 54.6875 \nL 36.8125 47.703125 \nL 18.3125 47.703125 \nL 18.3125 18.015625 \nQ 18.3125 11.328125 20.140625 9.421875 \nQ 21.96875 7.515625 27.59375 7.515625 \nL 36.8125 7.515625 \nL 36.8125 0 \nL 27.59375 0 \nQ 17.1875 0 13.234375 3.875 \nQ 9.28125 7.765625 9.28125 18.015625 \nL 9.28125 47.703125 \nL 2.6875 47.703125 \nL 2.6875 54.6875 \nL 9.28125 54.6875 \nL 9.28125 70.21875 \nz\n\" id=\"DejaVuSans-116\"/>\n        <path d=\"M 9.421875 54.6875 \nL 18.40625 54.6875 \nL 18.40625 0 \nL 9.421875 0 \nz\nM 9.421875 75.984375 \nL 18.40625 75.984375 \nL 18.40625 64.59375 \nL 9.421875 64.59375 \nz\n\" id=\"DejaVuSans-105\"/>\n        <path d=\"M 30.609375 48.390625 \nQ 23.390625 48.390625 19.1875 42.75 \nQ 14.984375 37.109375 14.984375 27.296875 \nQ 14.984375 17.484375 19.15625 11.84375 \nQ 23.34375 6.203125 30.609375 6.203125 \nQ 37.796875 6.203125 41.984375 11.859375 \nQ 46.1875 17.53125 46.1875 27.296875 \nQ 46.1875 37.015625 41.984375 42.703125 \nQ 37.796875 48.390625 30.609375 48.390625 \nz\nM 30.609375 56 \nQ 42.328125 56 49.015625 48.375 \nQ 55.71875 40.765625 55.71875 27.296875 \nQ 55.71875 13.875 49.015625 6.21875 \nQ 42.328125 -1.421875 30.609375 -1.421875 \nQ 18.84375 -1.421875 12.171875 6.21875 \nQ 5.515625 13.875 5.515625 27.296875 \nQ 5.515625 40.765625 12.171875 48.375 \nQ 18.84375 56 30.609375 56 \nz\n\" id=\"DejaVuSans-111\"/>\n       </defs>\n       <use xlink:href=\"#DejaVuSans-77\"/>\n       <use x=\"86.279297\" xlink:href=\"#DejaVuSans-101\"/>\n       <use x=\"147.802734\" xlink:href=\"#DejaVuSans-97\"/>\n       <use x=\"209.082031\" xlink:href=\"#DejaVuSans-110\"/>\n       <use x=\"272.460938\" xlink:href=\"#DejaVuSans-32\"/>\n       <use x=\"304.248047\" xlink:href=\"#DejaVuSans-73\"/>\n       <use x=\"333.740234\" xlink:href=\"#DejaVuSans-109\"/>\n       <use x=\"431.152344\" xlink:href=\"#DejaVuSans-112\"/>\n       <use x=\"494.628906\" xlink:href=\"#DejaVuSans-117\"/>\n       <use x=\"558.007812\" xlink:href=\"#DejaVuSans-116\"/>\n       <use x=\"597.216797\" xlink:href=\"#DejaVuSans-97\"/>\n       <use x=\"658.496094\" xlink:href=\"#DejaVuSans-116\"/>\n       <use x=\"697.705078\" xlink:href=\"#DejaVuSans-105\"/>\n       <use x=\"725.488281\" xlink:href=\"#DejaVuSans-111\"/>\n       <use x=\"786.669922\" xlink:href=\"#DejaVuSans-110\"/>\n      </g>\n     </g>\n    </g>\n    <g id=\"xtick_2\">\n     <g id=\"line2d_2\">\n      <g>\n       <use style=\"stroke:#000000;stroke-width:0.8;\" x=\"454.610302\" xlink:href=\"#m2df4538945\" y=\"170.28\"/>\n      </g>\n     </g>\n     <g id=\"text_2\">\n      <!-- Median Imputation -->\n      <g transform=\"translate(407.544677 184.878438)scale(0.1 -0.1)\">\n       <defs>\n        <path d=\"M 45.40625 46.390625 \nL 45.40625 75.984375 \nL 54.390625 75.984375 \nL 54.390625 0 \nL 45.40625 0 \nL 45.40625 8.203125 \nQ 42.578125 3.328125 38.25 0.953125 \nQ 33.9375 -1.421875 27.875 -1.421875 \nQ 17.96875 -1.421875 11.734375 6.484375 \nQ 5.515625 14.40625 5.515625 27.296875 \nQ 5.515625 40.1875 11.734375 48.09375 \nQ 17.96875 56 27.875 56 \nQ 33.9375 56 38.25 53.625 \nQ 42.578125 51.265625 45.40625 46.390625 \nz\nM 14.796875 27.296875 \nQ 14.796875 17.390625 18.875 11.75 \nQ 22.953125 6.109375 30.078125 6.109375 \nQ 37.203125 6.109375 41.296875 11.75 \nQ 45.40625 17.390625 45.40625 27.296875 \nQ 45.40625 37.203125 41.296875 42.84375 \nQ 37.203125 48.484375 30.078125 48.484375 \nQ 22.953125 48.484375 18.875 42.84375 \nQ 14.796875 37.203125 14.796875 27.296875 \nz\n\" id=\"DejaVuSans-100\"/>\n       </defs>\n       <use xlink:href=\"#DejaVuSans-77\"/>\n       <use x=\"86.279297\" xlink:href=\"#DejaVuSans-101\"/>\n       <use x=\"147.802734\" xlink:href=\"#DejaVuSans-100\"/>\n       <use x=\"211.279297\" xlink:href=\"#DejaVuSans-105\"/>\n       <use x=\"239.0625\" xlink:href=\"#DejaVuSans-97\"/>\n       <use x=\"300.341797\" xlink:href=\"#DejaVuSans-110\"/>\n       <use x=\"363.720703\" xlink:href=\"#DejaVuSans-32\"/>\n       <use x=\"395.507812\" xlink:href=\"#DejaVuSans-73\"/>\n       <use x=\"425\" xlink:href=\"#DejaVuSans-109\"/>\n       <use x=\"522.412109\" xlink:href=\"#DejaVuSans-112\"/>\n       <use x=\"585.888672\" xlink:href=\"#DejaVuSans-117\"/>\n       <use x=\"649.267578\" xlink:href=\"#DejaVuSans-116\"/>\n       <use x=\"688.476562\" xlink:href=\"#DejaVuSans-97\"/>\n       <use x=\"749.755859\" xlink:href=\"#DejaVuSans-116\"/>\n       <use x=\"788.964844\" xlink:href=\"#DejaVuSans-105\"/>\n       <use x=\"816.748047\" xlink:href=\"#DejaVuSans-111\"/>\n       <use x=\"877.929688\" xlink:href=\"#DejaVuSans-110\"/>\n      </g>\n     </g>\n    </g>\n    <g id=\"xtick_3\">\n     <g id=\"line2d_3\">\n      <g>\n       <use style=\"stroke:#000000;stroke-width:0.8;\" x=\"721.595948\" xlink:href=\"#m2df4538945\" y=\"170.28\"/>\n      </g>\n     </g>\n     <g id=\"text_3\">\n      <!-- Linear Imputation -->\n      <g transform=\"translate(677.177198 184.878438)scale(0.1 -0.1)\">\n       <defs>\n        <path d=\"M 9.8125 72.90625 \nL 19.671875 72.90625 \nL 19.671875 8.296875 \nL 55.171875 8.296875 \nL 55.171875 0 \nL 9.8125 0 \nz\n\" id=\"DejaVuSans-76\"/>\n        <path d=\"M 41.109375 46.296875 \nQ 39.59375 47.171875 37.8125 47.578125 \nQ 36.03125 48 33.890625 48 \nQ 26.265625 48 22.1875 43.046875 \nQ 18.109375 38.09375 18.109375 28.8125 \nL 18.109375 0 \nL 9.078125 0 \nL 9.078125 54.6875 \nL 18.109375 54.6875 \nL 18.109375 46.1875 \nQ 20.953125 51.171875 25.484375 53.578125 \nQ 30.03125 56 36.53125 56 \nQ 37.453125 56 38.578125 55.875 \nQ 39.703125 55.765625 41.0625 55.515625 \nz\n\" id=\"DejaVuSans-114\"/>\n       </defs>\n       <use xlink:href=\"#DejaVuSans-76\"/>\n       <use x=\"55.712891\" xlink:href=\"#DejaVuSans-105\"/>\n       <use x=\"83.496094\" xlink:href=\"#DejaVuSans-110\"/>\n       <use x=\"146.875\" xlink:href=\"#DejaVuSans-101\"/>\n       <use x=\"208.398438\" xlink:href=\"#DejaVuSans-97\"/>\n       <use x=\"269.677734\" xlink:href=\"#DejaVuSans-114\"/>\n       <use x=\"310.791016\" xlink:href=\"#DejaVuSans-32\"/>\n       <use x=\"342.578125\" xlink:href=\"#DejaVuSans-73\"/>\n       <use x=\"372.070312\" xlink:href=\"#DejaVuSans-109\"/>\n       <use x=\"469.482422\" xlink:href=\"#DejaVuSans-112\"/>\n       <use x=\"532.958984\" xlink:href=\"#DejaVuSans-117\"/>\n       <use x=\"596.337891\" xlink:href=\"#DejaVuSans-116\"/>\n       <use x=\"635.546875\" xlink:href=\"#DejaVuSans-97\"/>\n       <use x=\"696.826172\" xlink:href=\"#DejaVuSans-116\"/>\n       <use x=\"736.035156\" xlink:href=\"#DejaVuSans-105\"/>\n       <use x=\"763.818359\" xlink:href=\"#DejaVuSans-111\"/>\n       <use x=\"825\" xlink:href=\"#DejaVuSans-110\"/>\n      </g>\n     </g>\n    </g>\n    <g id=\"xtick_4\">\n     <g id=\"line2d_4\">\n      <g>\n       <use style=\"stroke:#000000;stroke-width:0.8;\" x=\"988.581594\" xlink:href=\"#m2df4538945\" y=\"170.28\"/>\n      </g>\n     </g>\n     <g id=\"text_4\">\n      <!-- HotDeck Imputation -->\n      <g transform=\"translate(938.351906 184.878438)scale(0.1 -0.1)\">\n       <defs>\n        <path d=\"M 9.8125 72.90625 \nL 19.671875 72.90625 \nL 19.671875 43.015625 \nL 55.515625 43.015625 \nL 55.515625 72.90625 \nL 65.375 72.90625 \nL 65.375 0 \nL 55.515625 0 \nL 55.515625 34.71875 \nL 19.671875 34.71875 \nL 19.671875 0 \nL 9.8125 0 \nz\n\" id=\"DejaVuSans-72\"/>\n        <path d=\"M 19.671875 64.796875 \nL 19.671875 8.109375 \nL 31.59375 8.109375 \nQ 46.6875 8.109375 53.6875 14.9375 \nQ 60.6875 21.78125 60.6875 36.53125 \nQ 60.6875 51.171875 53.6875 57.984375 \nQ 46.6875 64.796875 31.59375 64.796875 \nz\nM 9.8125 72.90625 \nL 30.078125 72.90625 \nQ 51.265625 72.90625 61.171875 64.09375 \nQ 71.09375 55.28125 71.09375 36.53125 \nQ 71.09375 17.671875 61.125 8.828125 \nQ 51.171875 0 30.078125 0 \nL 9.8125 0 \nz\n\" id=\"DejaVuSans-68\"/>\n        <path d=\"M 48.78125 52.59375 \nL 48.78125 44.1875 \nQ 44.96875 46.296875 41.140625 47.34375 \nQ 37.3125 48.390625 33.40625 48.390625 \nQ 24.65625 48.390625 19.8125 42.84375 \nQ 14.984375 37.3125 14.984375 27.296875 \nQ 14.984375 17.28125 19.8125 11.734375 \nQ 24.65625 6.203125 33.40625 6.203125 \nQ 37.3125 6.203125 41.140625 7.25 \nQ 44.96875 8.296875 48.78125 10.40625 \nL 48.78125 2.09375 \nQ 45.015625 0.34375 40.984375 -0.53125 \nQ 36.96875 -1.421875 32.421875 -1.421875 \nQ 20.0625 -1.421875 12.78125 6.34375 \nQ 5.515625 14.109375 5.515625 27.296875 \nQ 5.515625 40.671875 12.859375 48.328125 \nQ 20.21875 56 33.015625 56 \nQ 37.15625 56 41.109375 55.140625 \nQ 45.0625 54.296875 48.78125 52.59375 \nz\n\" id=\"DejaVuSans-99\"/>\n        <path d=\"M 9.078125 75.984375 \nL 18.109375 75.984375 \nL 18.109375 31.109375 \nL 44.921875 54.6875 \nL 56.390625 54.6875 \nL 27.390625 29.109375 \nL 57.625 0 \nL 45.90625 0 \nL 18.109375 26.703125 \nL 18.109375 0 \nL 9.078125 0 \nz\n\" id=\"DejaVuSans-107\"/>\n       </defs>\n       <use xlink:href=\"#DejaVuSans-72\"/>\n       <use x=\"75.195312\" xlink:href=\"#DejaVuSans-111\"/>\n       <use x=\"136.376953\" xlink:href=\"#DejaVuSans-116\"/>\n       <use x=\"175.585938\" xlink:href=\"#DejaVuSans-68\"/>\n       <use x=\"252.587891\" xlink:href=\"#DejaVuSans-101\"/>\n       <use x=\"314.111328\" xlink:href=\"#DejaVuSans-99\"/>\n       <use x=\"369.091797\" xlink:href=\"#DejaVuSans-107\"/>\n       <use x=\"427.001953\" xlink:href=\"#DejaVuSans-32\"/>\n       <use x=\"458.789062\" xlink:href=\"#DejaVuSans-73\"/>\n       <use x=\"488.28125\" xlink:href=\"#DejaVuSans-109\"/>\n       <use x=\"585.693359\" xlink:href=\"#DejaVuSans-112\"/>\n       <use x=\"649.169922\" xlink:href=\"#DejaVuSans-117\"/>\n       <use x=\"712.548828\" xlink:href=\"#DejaVuSans-116\"/>\n       <use x=\"751.757812\" xlink:href=\"#DejaVuSans-97\"/>\n       <use x=\"813.037109\" xlink:href=\"#DejaVuSans-116\"/>\n       <use x=\"852.246094\" xlink:href=\"#DejaVuSans-105\"/>\n       <use x=\"880.029297\" xlink:href=\"#DejaVuSans-111\"/>\n       <use x=\"941.210938\" xlink:href=\"#DejaVuSans-110\"/>\n      </g>\n     </g>\n    </g>\n   </g>\n   <g id=\"matplotlib.axis_2\">\n    <g id=\"ytick_1\">\n     <g id=\"line2d_5\">\n      <defs>\n       <path d=\"M 0 0 \nL -3.5 0 \n\" id=\"m79a39ffdc2\" style=\"stroke:#000000;stroke-width:0.8;\"/>\n      </defs>\n      <g>\n       <use style=\"stroke:#000000;stroke-width:0.8;\" x=\"30.103125\" xlink:href=\"#m79a39ffdc2\" y=\"170.28\"/>\n      </g>\n     </g>\n     <g id=\"text_5\">\n      <!-- 0.0 -->\n      <g transform=\"translate(7.2 174.079219)scale(0.1 -0.1)\">\n       <defs>\n        <path d=\"M 31.78125 66.40625 \nQ 24.171875 66.40625 20.328125 58.90625 \nQ 16.5 51.421875 16.5 36.375 \nQ 16.5 21.390625 20.328125 13.890625 \nQ 24.171875 6.390625 31.78125 6.390625 \nQ 39.453125 6.390625 43.28125 13.890625 \nQ 47.125 21.390625 47.125 36.375 \nQ 47.125 51.421875 43.28125 58.90625 \nQ 39.453125 66.40625 31.78125 66.40625 \nz\nM 31.78125 74.21875 \nQ 44.046875 74.21875 50.515625 64.515625 \nQ 56.984375 54.828125 56.984375 36.375 \nQ 56.984375 17.96875 50.515625 8.265625 \nQ 44.046875 -1.421875 31.78125 -1.421875 \nQ 19.53125 -1.421875 13.0625 8.265625 \nQ 6.59375 17.96875 6.59375 36.375 \nQ 6.59375 54.828125 13.0625 64.515625 \nQ 19.53125 74.21875 31.78125 74.21875 \nz\n\" id=\"DejaVuSans-48\"/>\n        <path d=\"M 10.6875 12.40625 \nL 21 12.40625 \nL 21 0 \nL 10.6875 0 \nz\n\" id=\"DejaVuSans-46\"/>\n       </defs>\n       <use xlink:href=\"#DejaVuSans-48\"/>\n       <use x=\"63.623047\" xlink:href=\"#DejaVuSans-46\"/>\n       <use x=\"95.410156\" xlink:href=\"#DejaVuSans-48\"/>\n      </g>\n     </g>\n    </g>\n    <g id=\"ytick_2\">\n     <g id=\"line2d_6\">\n      <g>\n       <use style=\"stroke:#000000;stroke-width:0.8;\" x=\"30.103125\" xlink:href=\"#m79a39ffdc2\" y=\"141.217443\"/>\n      </g>\n     </g>\n     <g id=\"text_6\">\n      <!-- 0.5 -->\n      <g transform=\"translate(7.2 145.016662)scale(0.1 -0.1)\">\n       <defs>\n        <path d=\"M 10.796875 72.90625 \nL 49.515625 72.90625 \nL 49.515625 64.59375 \nL 19.828125 64.59375 \nL 19.828125 46.734375 \nQ 21.96875 47.46875 24.109375 47.828125 \nQ 26.265625 48.1875 28.421875 48.1875 \nQ 40.625 48.1875 47.75 41.5 \nQ 54.890625 34.8125 54.890625 23.390625 \nQ 54.890625 11.625 47.5625 5.09375 \nQ 40.234375 -1.421875 26.90625 -1.421875 \nQ 22.3125 -1.421875 17.546875 -0.640625 \nQ 12.796875 0.140625 7.71875 1.703125 \nL 7.71875 11.625 \nQ 12.109375 9.234375 16.796875 8.0625 \nQ 21.484375 6.890625 26.703125 6.890625 \nQ 35.15625 6.890625 40.078125 11.328125 \nQ 45.015625 15.765625 45.015625 23.390625 \nQ 45.015625 31 40.078125 35.4375 \nQ 35.15625 39.890625 26.703125 39.890625 \nQ 22.75 39.890625 18.8125 39.015625 \nQ 14.890625 38.140625 10.796875 36.28125 \nz\n\" id=\"DejaVuSans-53\"/>\n       </defs>\n       <use xlink:href=\"#DejaVuSans-48\"/>\n       <use x=\"63.623047\" xlink:href=\"#DejaVuSans-46\"/>\n       <use x=\"95.410156\" xlink:href=\"#DejaVuSans-53\"/>\n      </g>\n     </g>\n    </g>\n    <g id=\"ytick_3\">\n     <g id=\"line2d_7\">\n      <g>\n       <use style=\"stroke:#000000;stroke-width:0.8;\" x=\"30.103125\" xlink:href=\"#m79a39ffdc2\" y=\"112.154886\"/>\n      </g>\n     </g>\n     <g id=\"text_7\">\n      <!-- 1.0 -->\n      <g transform=\"translate(7.2 115.954104)scale(0.1 -0.1)\">\n       <defs>\n        <path d=\"M 12.40625 8.296875 \nL 28.515625 8.296875 \nL 28.515625 63.921875 \nL 10.984375 60.40625 \nL 10.984375 69.390625 \nL 28.421875 72.90625 \nL 38.28125 72.90625 \nL 38.28125 8.296875 \nL 54.390625 8.296875 \nL 54.390625 0 \nL 12.40625 0 \nz\n\" id=\"DejaVuSans-49\"/>\n       </defs>\n       <use xlink:href=\"#DejaVuSans-49\"/>\n       <use x=\"63.623047\" xlink:href=\"#DejaVuSans-46\"/>\n       <use x=\"95.410156\" xlink:href=\"#DejaVuSans-48\"/>\n      </g>\n     </g>\n    </g>\n    <g id=\"ytick_4\">\n     <g id=\"line2d_8\">\n      <g>\n       <use style=\"stroke:#000000;stroke-width:0.8;\" x=\"30.103125\" xlink:href=\"#m79a39ffdc2\" y=\"83.092328\"/>\n      </g>\n     </g>\n     <g id=\"text_8\">\n      <!-- 1.5 -->\n      <g transform=\"translate(7.2 86.891547)scale(0.1 -0.1)\">\n       <use xlink:href=\"#DejaVuSans-49\"/>\n       <use x=\"63.623047\" xlink:href=\"#DejaVuSans-46\"/>\n       <use x=\"95.410156\" xlink:href=\"#DejaVuSans-53\"/>\n      </g>\n     </g>\n    </g>\n    <g id=\"ytick_5\">\n     <g id=\"line2d_9\">\n      <g>\n       <use style=\"stroke:#000000;stroke-width:0.8;\" x=\"30.103125\" xlink:href=\"#m79a39ffdc2\" y=\"54.029771\"/>\n      </g>\n     </g>\n     <g id=\"text_9\">\n      <!-- 2.0 -->\n      <g transform=\"translate(7.2 57.82899)scale(0.1 -0.1)\">\n       <defs>\n        <path d=\"M 19.1875 8.296875 \nL 53.609375 8.296875 \nL 53.609375 0 \nL 7.328125 0 \nL 7.328125 8.296875 \nQ 12.9375 14.109375 22.625 23.890625 \nQ 32.328125 33.6875 34.8125 36.53125 \nQ 39.546875 41.84375 41.421875 45.53125 \nQ 43.3125 49.21875 43.3125 52.78125 \nQ 43.3125 58.59375 39.234375 62.25 \nQ 35.15625 65.921875 28.609375 65.921875 \nQ 23.96875 65.921875 18.8125 64.3125 \nQ 13.671875 62.703125 7.8125 59.421875 \nL 7.8125 69.390625 \nQ 13.765625 71.78125 18.9375 73 \nQ 24.125 74.21875 28.421875 74.21875 \nQ 39.75 74.21875 46.484375 68.546875 \nQ 53.21875 62.890625 53.21875 53.421875 \nQ 53.21875 48.921875 51.53125 44.890625 \nQ 49.859375 40.875 45.40625 35.40625 \nQ 44.1875 33.984375 37.640625 27.21875 \nQ 31.109375 20.453125 19.1875 8.296875 \nz\n\" id=\"DejaVuSans-50\"/>\n       </defs>\n       <use xlink:href=\"#DejaVuSans-50\"/>\n       <use x=\"63.623047\" xlink:href=\"#DejaVuSans-46\"/>\n       <use x=\"95.410156\" xlink:href=\"#DejaVuSans-48\"/>\n      </g>\n     </g>\n    </g>\n    <g id=\"ytick_6\">\n     <g id=\"line2d_10\">\n      <g>\n       <use style=\"stroke:#000000;stroke-width:0.8;\" x=\"30.103125\" xlink:href=\"#m79a39ffdc2\" y=\"24.967214\"/>\n      </g>\n     </g>\n     <g id=\"text_10\">\n      <!-- 2.5 -->\n      <g transform=\"translate(7.2 28.766433)scale(0.1 -0.1)\">\n       <use xlink:href=\"#DejaVuSans-50\"/>\n       <use x=\"63.623047\" xlink:href=\"#DejaVuSans-46\"/>\n       <use x=\"95.410156\" xlink:href=\"#DejaVuSans-53\"/>\n      </g>\n     </g>\n    </g>\n   </g>\n   <g id=\"patch_7\">\n    <path d=\"M 30.103125 170.28 \nL 30.103125 7.2 \n\" style=\"fill:none;stroke:#000000;stroke-linecap:square;stroke-linejoin:miter;stroke-width:0.8;\"/>\n   </g>\n   <g id=\"patch_8\">\n    <path d=\"M 1146.103125 170.28 \nL 1146.103125 7.2 \n\" style=\"fill:none;stroke:#000000;stroke-linecap:square;stroke-linejoin:miter;stroke-width:0.8;\"/>\n   </g>\n   <g id=\"patch_9\">\n    <path d=\"M 30.103125 170.28 \nL 1146.103125 170.28 \n\" style=\"fill:none;stroke:#000000;stroke-linecap:square;stroke-linejoin:miter;stroke-width:0.8;\"/>\n   </g>\n   <g id=\"patch_10\">\n    <path d=\"M 30.103125 7.2 \nL 1146.103125 7.2 \n\" style=\"fill:none;stroke:#000000;stroke-linecap:square;stroke-linejoin:miter;stroke-width:0.8;\"/>\n   </g>\n  </g>\n </g>\n <defs>\n  <clipPath id=\"p7f302b52ce\">\n   <rect height=\"163.08\" width=\"1116\" x=\"30.103125\" y=\"7.2\"/>\n  </clipPath>\n </defs>\n</svg>\n",
      "image/png": "[encoded data removed]"
     },
     "metadata": {
      "needs_background": "light"
     }
    }
   ],
   "source": [
    "plt.figure(figsize=(20, 3))\n",
    "plt.bar(*zip(*listErrors.items()))\n",
    "plt.show()"
   ]
  }
 ]
}